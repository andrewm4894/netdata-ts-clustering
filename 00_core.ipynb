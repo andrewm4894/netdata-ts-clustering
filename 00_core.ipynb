{
 "cells": [
  {
   "cell_type": "code",
   "execution_count": null,
   "metadata": {},
   "outputs": [],
   "source": [
    "# default_exp core"
   ]
  },
  {
   "cell_type": "markdown",
   "metadata": {},
   "source": [
    "# core\n",
    "\n",
    "> API details."
   ]
  },
  {
   "cell_type": "code",
   "execution_count": 2,
   "metadata": {},
   "outputs": [],
   "source": [
    "# hide\n",
    "from nbdev.showdoc import *"
   ]
  },
  {
   "cell_type": "code",
   "execution_count": 3,
   "metadata": {},
   "outputs": [
    {
     "name": "stderr",
     "output_type": "stream",
     "text": [
      "/home/andre/.local/share/virtualenvs/netdata-ts-clustering-RkuPR3vH/lib/python3.8/site-packages/sklearn/utils/deprecation.py:143: FutureWarning: The sklearn.cluster.k_means_ module is  deprecated in version 0.22 and will be removed in version 0.24. The corresponding classes / functions should instead be imported from sklearn.cluster. Anything that cannot be imported from sklearn.cluster is now part of the private API.\n",
      "  warnings.warn(message, FutureWarning)\n",
      "/home/andre/.local/share/virtualenvs/netdata-ts-clustering-RkuPR3vH/lib/python3.8/site-packages/tslearn/bases.py:15: UserWarning: h5py not installed, hdf5 features will not be supported.\n",
      "Install h5py to use hdf5 features: http://docs.h5py.org/\n",
      "  warn(h5py_msg)\n"
     ]
    }
   ],
   "source": [
    "# export\n",
    "\n",
    "import numpy as np\n",
    "import pandas as pd\n",
    "from tslearn.clustering import TimeSeriesKMeans\n",
    "from netdata_pandas.data import get_data\n",
    "from am4894plots.plots import plot_lines_grid"
   ]
  },
  {
   "cell_type": "code",
   "execution_count": 4,
   "metadata": {},
   "outputs": [],
   "source": [
    "# export\n",
    "\n",
    "class Clusterer:\n",
    "    \"\"\"\n",
    "    \"\"\"\n",
    "    \n",
    "    def __init__(self, \n",
    "                 hosts: list, charts: list, after: int, before: int, diff: bool = False, norm: bool = True, \n",
    "                 smooth_n: int = 5, smooth_func: str = 'mean', n_clusters: int = 10, min_n: int = 4):\n",
    "        self.hosts = hosts\n",
    "        self.charts = charts\n",
    "        self.after = after\n",
    "        self.before = before\n",
    "        self.diff = diff\n",
    "        self.norm = norm\n",
    "        self.smooth_n = smooth_n\n",
    "        self.smooth_func = smooth_func\n",
    "        self.n_clusters = n_clusters\n",
    "        self.min_n = min_n\n",
    "        self.cluster_quality_dict = {}\n",
    "        \n",
    "    def get_data(self):\n",
    "        \"\"\"\n",
    "        \"\"\"\n",
    "        self.df = get_data(self.hosts, self.charts, after=self.after, before=self.before, user=None, pwd=None)\n",
    "        \n",
    "    def preprocess_data(self):\n",
    "        \"\"\"\n",
    "        \"\"\"\n",
    "        if self.diff:\n",
    "            self.df = self.df.diff()\n",
    "        if self.smooth_n > 0:\n",
    "            if self.smooth_func == 'mean':\n",
    "                self.df = self.df.rolling(self.smooth_n).mean().dropna(how='all')\n",
    "            elif self.smooth_func == 'max':\n",
    "                self.df = self.df.rolling(self.smooth_n).max().dropna(how='all')\n",
    "            elif self.smooth_func == 'min':\n",
    "                self.df = self.df.rolling(self.smooth_n).min().dropna(how='all')\n",
    "            elif self.smooth_func == 'sum':\n",
    "                self.df = self.df.rolling(self.smooth_n).sum().dropna(how='all')\n",
    "            elif self.smooth_func == 'median':\n",
    "                self.df = self.df.rolling(self.smooth_n).median().dropna(how='all')\n",
    "            else:\n",
    "                self.df = self.df.rolling(self.smooth_n).mean().dropna(how='all')\n",
    "        if self.norm:\n",
    "            self.df = (self.df-self.df.min())/(self.df.max()-self.df.min())\n",
    "        self.df = self.df.dropna(axis=1, how='all')\n",
    "        self.df = self.df.set_index(pd.to_datetime(self.df.index, unit='s'))\n",
    "    \n",
    "    def cluster_data(self):\n",
    "        \"\"\"\n",
    "        \"\"\"\n",
    "        self.model = TimeSeriesKMeans(\n",
    "            n_clusters=self.n_clusters, metric=\"euclidean\", max_iter=10, n_init=2\n",
    "        ).fit(self.df.transpose().values)\n",
    "        self.df_cluster = pd.DataFrame(list(zip(self.df.columns, self.model.labels_)), columns=['metric', 'cluster'])\n",
    "        self.cluster_metrics_dict = self.df_cluster.groupby(['cluster'])['metric'].apply(lambda x: [x for x in x]).to_dict()\n",
    "        self.cluster_len_dict = self.df_cluster['cluster'].value_counts().to_dict()\n",
    "        self.clusters_all = [cluster for cluster in self.cluster_len_dict]\n",
    "        self.clusters_dropped = [cluster for cluster in self.cluster_len_dict if self.cluster_len_dict[cluster]<self.min_n]\n",
    "        self.clusters_final = [cluster for cluster in self.cluster_len_dict if self.cluster_len_dict[cluster]>=self.min_n]\n",
    "        \n",
    "    def generate_quality_scores(self):\n",
    "        \"\"\"\n",
    "        \"\"\"\n",
    "        for cluster_number in self.clusters_all:\n",
    "            self.x_corr = self.df[self.cluster_metrics_dict[cluster_number]].corr().abs().values\n",
    "            self.x_corr_mean = round(self.x_corr[np.triu_indices(self.x_corr.shape[0],1)].mean(),2)\n",
    "            self.cluster_quality_dict[cluster_number] = self.x_corr_mean\n",
    "            \n",
    "    def generate_df_cluster_meta(self):\n",
    "        \"\"\"\n",
    "        \"\"\"\n",
    "        self.df_cluster_meta = pd.DataFrame.from_dict(self.cluster_len_dict, orient='index', columns=['n'])\n",
    "        self.df_cluster_meta.index.names = ['cluster']\n",
    "        self.df_cluster_meta['quality_score'] = self.df_cluster_meta.index.map(self.cluster_quality_dict)\n",
    "        self.df_cluster_meta = self.df_cluster_meta.sort_values('quality_score', ascending=False)\n",
    "        \n",
    "    def generate_df_cluster_centers(self):\n",
    "        \"\"\"\n",
    "        \"\"\"\n",
    "        self.df_cluster_centers = pd.DataFrame(self.model.cluster_centers_.reshape(self.model.cluster_centers_.shape[0],self.model.cluster_centers_.shape[1])).transpose()\n",
    "        self.df_cluster_centers.index = self.df.index\n",
    "        \n",
    "    def generate_cluster_centers_plot(self):\n",
    "        \"\"\"\n",
    "        \"\"\"\n",
    "        titles = [f'{x[0]} - n={x[2]}, qs={x[1]}' for x in list(zip(list(self.df_cluster_meta.index),list(self.df_cluster_meta.quality_score),list(self.df_cluster_meta.n)))]\n",
    "        self.fig_centers = plot_lines_grid(\n",
    "            self.df_cluster_centers[list(self.df_cluster_meta.index)], subplot_titles=titles, return_p=True, h_each=75, w=1000, \n",
    "            legend=False, yaxes_visible=False, xaxes_visible=False, show_p=False\n",
    "        )\n",
    "        \n",
    "    def run_all(self):\n",
    "        \"\"\"\n",
    "        \"\"\"\n",
    "        self.get_data()\n",
    "        self.preprocess_data()\n",
    "        self.cluster_data()\n",
    "        self.generate_quality_scores()\n",
    "        self.generate_df_cluster_meta()\n",
    "        self.generate_df_cluster_centers()\n",
    "        self.generate_cluster_centers_plot()\n",
    "\n"
   ]
  },
  {
   "cell_type": "code",
   "execution_count": 5,
   "metadata": {},
   "outputs": [],
   "source": [
    "# hide\n",
    "# tests\n",
    "\n",
    "model = Clusterer(\n",
    "    hosts=['london.my-netdata.io'],\n",
    "    charts=['system.cpu'],\n",
    "    after=-60,\n",
    "    before=0,\n",
    "    n_clusters=3\n",
    ")\n",
    "model.get_data()\n",
    "assert model.df.shape == (60,9)"
   ]
  },
  {
   "cell_type": "code",
   "execution_count": null,
   "metadata": {},
   "outputs": [],
   "source": []
  },
  {
   "cell_type": "code",
   "execution_count": null,
   "metadata": {},
   "outputs": [],
   "source": []
  },
  {
   "cell_type": "code",
   "execution_count": null,
   "metadata": {},
   "outputs": [],
   "source": []
  }
 ],
 "metadata": {
  "kernelspec": {
   "display_name": "Python 3",
   "language": "python",
   "name": "python3"
  },
  "language_info": {
   "codemirror_mode": {
    "name": "ipython",
    "version": 3
   },
   "file_extension": ".py",
   "mimetype": "text/x-python",
   "name": "python",
   "nbconvert_exporter": "python",
   "pygments_lexer": "ipython3",
   "version": "3.8.2"
  }
 },
 "nbformat": 4,
 "nbformat_minor": 4
}
