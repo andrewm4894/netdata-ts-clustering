{
 "cells": [
  {
   "cell_type": "code",
   "execution_count": 1,
   "metadata": {},
   "outputs": [],
   "source": [
    "# default_exp core"
   ]
  },
  {
   "cell_type": "markdown",
   "metadata": {},
   "source": [
    "# core\n",
    "\n",
    "> API details."
   ]
  },
  {
   "cell_type": "code",
   "execution_count": 2,
   "metadata": {},
   "outputs": [],
   "source": [
    "# hide\n",
    "from nbdev.showdoc import *"
   ]
  },
  {
   "cell_type": "code",
   "execution_count": 3,
   "metadata": {},
   "outputs": [
    {
     "name": "stderr",
     "output_type": "stream",
     "text": [
      "/home/andre/.local/share/virtualenvs/netdata-ts-clustering-RkuPR3vH/lib/python3.8/site-packages/sklearn/utils/deprecation.py:143: FutureWarning: The sklearn.cluster.k_means_ module is  deprecated in version 0.22 and will be removed in version 0.24. The corresponding classes / functions should instead be imported from sklearn.cluster. Anything that cannot be imported from sklearn.cluster is now part of the private API.\n",
      "  warnings.warn(message, FutureWarning)\n",
      "/home/andre/.local/share/virtualenvs/netdata-ts-clustering-RkuPR3vH/lib/python3.8/site-packages/tslearn/bases.py:15: UserWarning: h5py not installed, hdf5 features will not be supported.\n",
      "Install h5py to use hdf5 features: http://docs.h5py.org/\n",
      "  warn(h5py_msg)\n"
     ]
    }
   ],
   "source": [
    "# export\n",
    "\n",
    "import numpy as np\n",
    "import pandas as pd\n",
    "from tslearn.clustering import TimeSeriesKMeans\n",
    "from netdata_pandas.data import get_data"
   ]
  },
  {
   "cell_type": "code",
   "execution_count": 4,
   "metadata": {},
   "outputs": [],
   "source": [
    "# export\n",
    "\n",
    "class Clusterer:\n",
    "    \"\"\"\n",
    "    \"\"\"\n",
    "    \n",
    "    def __init__(self, \n",
    "                 hosts: list, charts: list, after: int, before: int, diff: bool = False, norm: bool = True, \n",
    "                 smooth_n: int = 5, smooth_func: str = 'mean', n_clusters: int = 10, min_n: int = 4):\n",
    "        self.hosts = hosts\n",
    "        self.charts = charts\n",
    "        self.after = after\n",
    "        self.before = before\n",
    "        self.diff = diff\n",
    "        self.norm = norm\n",
    "        self.smooth_n = smooth_n\n",
    "        self.smooth_func = smooth_func\n",
    "        self.n_clusters = n_clusters\n",
    "        self.min_n = min_n\n",
    "        self.cluster_quality_dict = {}\n",
    "        \n",
    "    def get_data(self):\n",
    "        \"\"\"\n",
    "        \"\"\"\n",
    "        self.df = get_data(self.hosts, self.charts, after=self.after, before=self.before, user=None, pwd=None)\n",
    "        \n",
    "    def preprocess_data(self):\n",
    "        \"\"\"\n",
    "        \"\"\"\n",
    "        if self.diff:\n",
    "            self.df = self.df.diff()\n",
    "        if self.smooth_n > 0:\n",
    "            if self.smooth_func == 'mean':\n",
    "                self.df = self.df.rolling(self.smooth_n).mean().dropna(how='all')\n",
    "            elif self.smooth_func == 'max':\n",
    "                self.df = self.df.rolling(self.smooth_n).max().dropna(how='all')\n",
    "            elif self.smooth_func == 'min':\n",
    "                self.df = self.df.rolling(self.smooth_n).min().dropna(how='all')\n",
    "            elif self.smooth_func == 'sum':\n",
    "                self.df = self.df.rolling(self.smooth_n).sum().dropna(how='all')\n",
    "            elif self.smooth_func == 'median':\n",
    "                self.df = self.df.rolling(self.smooth_n).median().dropna(how='all')\n",
    "            else:\n",
    "                self.df = self.df.rolling(self.smooth_n).mean().dropna(how='all')\n",
    "        if self.norm:\n",
    "            self.df = (self.df-self.df.min())/(self.df.max()-self.df.min())\n",
    "        self.df = self.df.dropna(axis=1, how='all')\n",
    "        self.df = self.df.set_index(pd.to_datetime(self.df.index, unit='s'))\n",
    "    \n",
    "    def cluster_data(self):\n",
    "        \"\"\"\n",
    "        \"\"\"\n",
    "        self.model = TimeSeriesKMeans(\n",
    "            n_clusters=self.n_clusters, metric=\"euclidean\", max_iter=10, n_init=2\n",
    "        ).fit(self.df.transpose().values)\n",
    "        self.df_cluster = pd.DataFrame(list(zip(self.df.columns, self.model.labels_)), columns=['metric', 'cluster'])\n",
    "        self.cluster_metrics_dict = self.df_cluster.groupby(['cluster'])['metric'].apply(lambda x: [x for x in x]).to_dict()\n",
    "        self.cluster_len_dict = self.df_cluster['cluster'].value_counts().to_dict()\n",
    "        self.clusters_all = [cluster for cluster in self.cluster_len_dict]\n",
    "        self.clusters_dropped = [cluster for cluster in self.cluster_len_dict if self.cluster_len_dict[cluster]<self.min_n]\n",
    "        self.clusters_final = [cluster for cluster in self.cluster_len_dict if self.cluster_len_dict[cluster]>=self.min_n]\n",
    "        \n",
    "    def generate_quality_scores(self):\n",
    "        \"\"\"\n",
    "        \"\"\"\n",
    "        for cluster_number in self.clusters_all:\n",
    "            self.x_corr = self.df[self.cluster_metrics_dict[cluster_number]].corr().abs().values\n",
    "            self.x_corr_mean = round(self.x_corr[np.triu_indices(self.x_corr.shape[0],1)].mean(),2)\n",
    "            self.cluster_quality_dict[cluster_number] = self.x_corr_mean\n",
    "            \n",
    "    def generate_df_cluster_meta(self):\n",
    "        \"\"\"\n",
    "        \"\"\"\n",
    "        self.df_cluster_meta = pd.DataFrame.from_dict(self.cluster_len_dict, orient='index', columns=['n'])\n",
    "        self.df_cluster_meta.index.names = ['cluster']\n",
    "        self.df_cluster_meta['quality_score'] = self.df_cluster_meta.index.map(self.cluster_quality_dict)\n",
    "        self.df_cluster_meta = self.df_cluster_meta.sort_values('quality_score', ascending=False)\n",
    "        \n",
    "    def generate_df_cluster_centers(self):\n",
    "        \"\"\"\n",
    "        \"\"\"\n",
    "        self.df_cluster_centers = pd.DataFrame(self.model.cluster_centers_.reshape(self.model.cluster_centers_.shape[0],self.model.cluster_centers_.shape[1])).transpose()\n",
    "        self.df_cluster_centers.index = self.df.index\n",
    "\n"
   ]
  },
  {
   "cell_type": "code",
   "execution_count": 5,
   "metadata": {},
   "outputs": [
    {
     "data": {
      "text/html": [
       "<div>\n",
       "<style scoped>\n",
       "    .dataframe tbody tr th:only-of-type {\n",
       "        vertical-align: middle;\n",
       "    }\n",
       "\n",
       "    .dataframe tbody tr th {\n",
       "        vertical-align: top;\n",
       "    }\n",
       "\n",
       "    .dataframe thead th {\n",
       "        text-align: right;\n",
       "    }\n",
       "</style>\n",
       "<table border=\"1\" class=\"dataframe\">\n",
       "  <thead>\n",
       "    <tr style=\"text-align: right;\">\n",
       "      <th></th>\n",
       "      <th>system.cpu|iowait</th>\n",
       "      <th>system.cpu|softirq</th>\n",
       "      <th>system.cpu|steal</th>\n",
       "      <th>system.cpu|system</th>\n",
       "      <th>system.cpu|user</th>\n",
       "    </tr>\n",
       "    <tr>\n",
       "      <th>time_idx</th>\n",
       "      <th></th>\n",
       "      <th></th>\n",
       "      <th></th>\n",
       "      <th></th>\n",
       "      <th></th>\n",
       "    </tr>\n",
       "  </thead>\n",
       "  <tbody>\n",
       "    <tr>\n",
       "      <th>2020-12-13 15:16:16</th>\n",
       "      <td>0.0</td>\n",
       "      <td>0.196365</td>\n",
       "      <td>0.586750</td>\n",
       "      <td>0.308037</td>\n",
       "      <td>0.179805</td>\n",
       "    </tr>\n",
       "    <tr>\n",
       "      <th>2020-12-13 15:16:17</th>\n",
       "      <td>0.0</td>\n",
       "      <td>0.196365</td>\n",
       "      <td>0.765475</td>\n",
       "      <td>0.445381</td>\n",
       "      <td>0.220774</td>\n",
       "    </tr>\n",
       "    <tr>\n",
       "      <th>2020-12-13 15:16:18</th>\n",
       "      <td>0.0</td>\n",
       "      <td>0.000000</td>\n",
       "      <td>0.805596</td>\n",
       "      <td>0.479205</td>\n",
       "      <td>0.219811</td>\n",
       "    </tr>\n",
       "    <tr>\n",
       "      <th>2020-12-13 15:16:19</th>\n",
       "      <td>0.0</td>\n",
       "      <td>0.000000</td>\n",
       "      <td>0.829818</td>\n",
       "      <td>0.371518</td>\n",
       "      <td>0.307346</td>\n",
       "    </tr>\n",
       "    <tr>\n",
       "      <th>2020-12-13 15:16:20</th>\n",
       "      <td>0.0</td>\n",
       "      <td>0.000000</td>\n",
       "      <td>0.814642</td>\n",
       "      <td>0.408105</td>\n",
       "      <td>0.264008</td>\n",
       "    </tr>\n",
       "  </tbody>\n",
       "</table>\n",
       "</div>"
      ],
      "text/plain": [
       "                     system.cpu|iowait  system.cpu|softirq  system.cpu|steal  \\\n",
       "time_idx                                                                       \n",
       "2020-12-13 15:16:16                0.0            0.196365          0.586750   \n",
       "2020-12-13 15:16:17                0.0            0.196365          0.765475   \n",
       "2020-12-13 15:16:18                0.0            0.000000          0.805596   \n",
       "2020-12-13 15:16:19                0.0            0.000000          0.829818   \n",
       "2020-12-13 15:16:20                0.0            0.000000          0.814642   \n",
       "\n",
       "                     system.cpu|system  system.cpu|user  \n",
       "time_idx                                                 \n",
       "2020-12-13 15:16:16           0.308037         0.179805  \n",
       "2020-12-13 15:16:17           0.445381         0.220774  \n",
       "2020-12-13 15:16:18           0.479205         0.219811  \n",
       "2020-12-13 15:16:19           0.371518         0.307346  \n",
       "2020-12-13 15:16:20           0.408105         0.264008  "
      ]
     },
     "execution_count": 5,
     "metadata": {},
     "output_type": "execute_result"
    }
   ],
   "source": [
    "# hide\n",
    "# tests\n",
    "\n",
    "model = Clusterer(\n",
    "    hosts=['london.my-netdata.io'],\n",
    "    charts=['system.cpu'],\n",
    "    after=-900,\n",
    "    before=0,\n",
    "    n_clusters=3\n",
    ")\n",
    "model.get_data()\n",
    "#assert model.df.shape == (60,9)\n",
    "\n",
    "model.preprocess_data()\n",
    "model.df.head()"
   ]
  },
  {
   "cell_type": "code",
   "execution_count": 6,
   "metadata": {},
   "outputs": [
    {
     "data": {
      "text/plain": [
       "TimeSeriesKMeans(max_iter=10, n_init=2)"
      ]
     },
     "execution_count": 6,
     "metadata": {},
     "output_type": "execute_result"
    }
   ],
   "source": [
    "model.cluster_data()\n",
    "model.model"
   ]
  },
  {
   "cell_type": "code",
   "execution_count": 7,
   "metadata": {},
   "outputs": [
    {
     "data": {
      "text/html": [
       "<div>\n",
       "<style scoped>\n",
       "    .dataframe tbody tr th:only-of-type {\n",
       "        vertical-align: middle;\n",
       "    }\n",
       "\n",
       "    .dataframe tbody tr th {\n",
       "        vertical-align: top;\n",
       "    }\n",
       "\n",
       "    .dataframe thead th {\n",
       "        text-align: right;\n",
       "    }\n",
       "</style>\n",
       "<table border=\"1\" class=\"dataframe\">\n",
       "  <thead>\n",
       "    <tr style=\"text-align: right;\">\n",
       "      <th></th>\n",
       "      <th>metric</th>\n",
       "      <th>cluster</th>\n",
       "    </tr>\n",
       "  </thead>\n",
       "  <tbody>\n",
       "    <tr>\n",
       "      <th>0</th>\n",
       "      <td>system.cpu|iowait</td>\n",
       "      <td>0</td>\n",
       "    </tr>\n",
       "    <tr>\n",
       "      <th>1</th>\n",
       "      <td>system.cpu|softirq</td>\n",
       "      <td>2</td>\n",
       "    </tr>\n",
       "    <tr>\n",
       "      <th>2</th>\n",
       "      <td>system.cpu|steal</td>\n",
       "      <td>1</td>\n",
       "    </tr>\n",
       "    <tr>\n",
       "      <th>3</th>\n",
       "      <td>system.cpu|system</td>\n",
       "      <td>1</td>\n",
       "    </tr>\n",
       "    <tr>\n",
       "      <th>4</th>\n",
       "      <td>system.cpu|user</td>\n",
       "      <td>1</td>\n",
       "    </tr>\n",
       "  </tbody>\n",
       "</table>\n",
       "</div>"
      ],
      "text/plain": [
       "               metric  cluster\n",
       "0   system.cpu|iowait        0\n",
       "1  system.cpu|softirq        2\n",
       "2    system.cpu|steal        1\n",
       "3   system.cpu|system        1\n",
       "4     system.cpu|user        1"
      ]
     },
     "execution_count": 7,
     "metadata": {},
     "output_type": "execute_result"
    }
   ],
   "source": [
    "model.df_cluster.head()"
   ]
  },
  {
   "cell_type": "code",
   "execution_count": 8,
   "metadata": {},
   "outputs": [
    {
     "name": "stderr",
     "output_type": "stream",
     "text": [
      "<ipython-input-4-9d5d0b599778>:68: RuntimeWarning: Mean of empty slice.\n",
      "  self.x_corr_mean = round(self.x_corr[np.triu_indices(self.x_corr.shape[0],1)].mean(),2)\n",
      "/home/andre/.local/share/virtualenvs/netdata-ts-clustering-RkuPR3vH/lib/python3.8/site-packages/numpy/core/_methods.py:170: RuntimeWarning: invalid value encountered in double_scalars\n",
      "  ret = ret.dtype.type(ret / rcount)\n"
     ]
    },
    {
     "data": {
      "text/plain": [
       "{1: 0.2, 2: nan, 0: nan}"
      ]
     },
     "execution_count": 8,
     "metadata": {},
     "output_type": "execute_result"
    }
   ],
   "source": [
    "model.generate_quality_scores()\n",
    "model.cluster_quality_dict"
   ]
  },
  {
   "cell_type": "code",
   "execution_count": 9,
   "metadata": {},
   "outputs": [
    {
     "data": {
      "text/html": [
       "<div>\n",
       "<style scoped>\n",
       "    .dataframe tbody tr th:only-of-type {\n",
       "        vertical-align: middle;\n",
       "    }\n",
       "\n",
       "    .dataframe tbody tr th {\n",
       "        vertical-align: top;\n",
       "    }\n",
       "\n",
       "    .dataframe thead th {\n",
       "        text-align: right;\n",
       "    }\n",
       "</style>\n",
       "<table border=\"1\" class=\"dataframe\">\n",
       "  <thead>\n",
       "    <tr style=\"text-align: right;\">\n",
       "      <th></th>\n",
       "      <th>n</th>\n",
       "      <th>quality_score</th>\n",
       "    </tr>\n",
       "    <tr>\n",
       "      <th>cluster</th>\n",
       "      <th></th>\n",
       "      <th></th>\n",
       "    </tr>\n",
       "  </thead>\n",
       "  <tbody>\n",
       "    <tr>\n",
       "      <th>1</th>\n",
       "      <td>3</td>\n",
       "      <td>0.2</td>\n",
       "    </tr>\n",
       "    <tr>\n",
       "      <th>2</th>\n",
       "      <td>1</td>\n",
       "      <td>NaN</td>\n",
       "    </tr>\n",
       "    <tr>\n",
       "      <th>0</th>\n",
       "      <td>1</td>\n",
       "      <td>NaN</td>\n",
       "    </tr>\n",
       "  </tbody>\n",
       "</table>\n",
       "</div>"
      ],
      "text/plain": [
       "         n  quality_score\n",
       "cluster                  \n",
       "1        3            0.2\n",
       "2        1            NaN\n",
       "0        1            NaN"
      ]
     },
     "execution_count": 9,
     "metadata": {},
     "output_type": "execute_result"
    }
   ],
   "source": [
    "model.generate_df_cluster_meta()\n",
    "model.df_cluster_meta.head()"
   ]
  },
  {
   "cell_type": "code",
   "execution_count": 10,
   "metadata": {},
   "outputs": [
    {
     "data": {
      "text/html": [
       "<div>\n",
       "<style scoped>\n",
       "    .dataframe tbody tr th:only-of-type {\n",
       "        vertical-align: middle;\n",
       "    }\n",
       "\n",
       "    .dataframe tbody tr th {\n",
       "        vertical-align: top;\n",
       "    }\n",
       "\n",
       "    .dataframe thead th {\n",
       "        text-align: right;\n",
       "    }\n",
       "</style>\n",
       "<table border=\"1\" class=\"dataframe\">\n",
       "  <thead>\n",
       "    <tr style=\"text-align: right;\">\n",
       "      <th></th>\n",
       "      <th>0</th>\n",
       "      <th>1</th>\n",
       "      <th>2</th>\n",
       "    </tr>\n",
       "    <tr>\n",
       "      <th>time_idx</th>\n",
       "      <th></th>\n",
       "      <th></th>\n",
       "      <th></th>\n",
       "    </tr>\n",
       "  </thead>\n",
       "  <tbody>\n",
       "    <tr>\n",
       "      <th>2020-12-13 15:16:16</th>\n",
       "      <td>0.0</td>\n",
       "      <td>0.358197</td>\n",
       "      <td>0.196365</td>\n",
       "    </tr>\n",
       "    <tr>\n",
       "      <th>2020-12-13 15:16:17</th>\n",
       "      <td>0.0</td>\n",
       "      <td>0.477210</td>\n",
       "      <td>0.196365</td>\n",
       "    </tr>\n",
       "    <tr>\n",
       "      <th>2020-12-13 15:16:18</th>\n",
       "      <td>0.0</td>\n",
       "      <td>0.501538</td>\n",
       "      <td>0.000000</td>\n",
       "    </tr>\n",
       "    <tr>\n",
       "      <th>2020-12-13 15:16:19</th>\n",
       "      <td>0.0</td>\n",
       "      <td>0.502894</td>\n",
       "      <td>0.000000</td>\n",
       "    </tr>\n",
       "    <tr>\n",
       "      <th>2020-12-13 15:16:20</th>\n",
       "      <td>0.0</td>\n",
       "      <td>0.495585</td>\n",
       "      <td>0.000000</td>\n",
       "    </tr>\n",
       "  </tbody>\n",
       "</table>\n",
       "</div>"
      ],
      "text/plain": [
       "                       0         1         2\n",
       "time_idx                                    \n",
       "2020-12-13 15:16:16  0.0  0.358197  0.196365\n",
       "2020-12-13 15:16:17  0.0  0.477210  0.196365\n",
       "2020-12-13 15:16:18  0.0  0.501538  0.000000\n",
       "2020-12-13 15:16:19  0.0  0.502894  0.000000\n",
       "2020-12-13 15:16:20  0.0  0.495585  0.000000"
      ]
     },
     "execution_count": 10,
     "metadata": {},
     "output_type": "execute_result"
    }
   ],
   "source": [
    "model.generate_df_cluster_centers()\n",
    "model.df_cluster_centers.head()"
   ]
  },
  {
   "cell_type": "code",
   "execution_count": null,
   "metadata": {},
   "outputs": [],
   "source": []
  },
  {
   "cell_type": "code",
   "execution_count": null,
   "metadata": {},
   "outputs": [],
   "source": []
  },
  {
   "cell_type": "code",
   "execution_count": null,
   "metadata": {},
   "outputs": [],
   "source": []
  },
  {
   "cell_type": "code",
   "execution_count": null,
   "metadata": {},
   "outputs": [],
   "source": []
  },
  {
   "cell_type": "code",
   "execution_count": null,
   "metadata": {},
   "outputs": [],
   "source": []
  }
 ],
 "metadata": {
  "kernelspec": {
   "display_name": "Python 3",
   "language": "python",
   "name": "python3"
  },
  "language_info": {
   "codemirror_mode": {
    "name": "ipython",
    "version": 3
   },
   "file_extension": ".py",
   "mimetype": "text/x-python",
   "name": "python",
   "nbconvert_exporter": "python",
   "pygments_lexer": "ipython3",
   "version": "3.8.2"
  }
 },
 "nbformat": 4,
 "nbformat_minor": 4
}
