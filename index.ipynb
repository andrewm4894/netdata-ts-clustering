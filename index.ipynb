{
 "cells": [
  {
   "cell_type": "code",
   "execution_count": 1,
   "metadata": {},
   "outputs": [],
   "source": [
    "# hide\n",
    "from netdata_ts_clustering.core import *"
   ]
  },
  {
   "cell_type": "markdown",
   "metadata": {},
   "source": [
    "# netdata_ts_clustering\n",
    "\n",
    "> Time series clustering for Netdata hosts."
   ]
  },
  {
   "cell_type": "markdown",
   "metadata": {},
   "source": [
    "..."
   ]
  },
  {
   "cell_type": "markdown",
   "metadata": {},
   "source": [
    "## Install"
   ]
  },
  {
   "cell_type": "markdown",
   "metadata": {},
   "source": [
    "`pip install netdata_ts_clustering`"
   ]
  },
  {
   "cell_type": "markdown",
   "metadata": {},
   "source": [
    "## Quickstart"
   ]
  },
  {
   "cell_type": "code",
   "execution_count": 2,
   "metadata": {},
   "outputs": [
    {
     "data": {
      "text/html": [
       "<div>\n",
       "<style scoped>\n",
       "    .dataframe tbody tr th:only-of-type {\n",
       "        vertical-align: middle;\n",
       "    }\n",
       "\n",
       "    .dataframe tbody tr th {\n",
       "        vertical-align: top;\n",
       "    }\n",
       "\n",
       "    .dataframe thead th {\n",
       "        text-align: right;\n",
       "    }\n",
       "</style>\n",
       "<table border=\"1\" class=\"dataframe\">\n",
       "  <thead>\n",
       "    <tr style=\"text-align: right;\">\n",
       "      <th></th>\n",
       "      <th>system.cpu|guest</th>\n",
       "      <th>system.cpu|guest_nice</th>\n",
       "      <th>system.cpu|iowait</th>\n",
       "      <th>system.cpu|irq</th>\n",
       "      <th>system.cpu|nice</th>\n",
       "      <th>system.cpu|softirq</th>\n",
       "      <th>system.cpu|steal</th>\n",
       "      <th>system.cpu|system</th>\n",
       "      <th>system.cpu|user</th>\n",
       "    </tr>\n",
       "    <tr>\n",
       "      <th>time_idx</th>\n",
       "      <th></th>\n",
       "      <th></th>\n",
       "      <th></th>\n",
       "      <th></th>\n",
       "      <th></th>\n",
       "      <th></th>\n",
       "      <th></th>\n",
       "      <th></th>\n",
       "      <th></th>\n",
       "    </tr>\n",
       "  </thead>\n",
       "  <tbody>\n",
       "    <tr>\n",
       "      <th>1607871202</th>\n",
       "      <td>0.0</td>\n",
       "      <td>0.0</td>\n",
       "      <td>0.0</td>\n",
       "      <td>0.0</td>\n",
       "      <td>0.0</td>\n",
       "      <td>0.000000</td>\n",
       "      <td>2.750000</td>\n",
       "      <td>0.750000</td>\n",
       "      <td>0.750000</td>\n",
       "    </tr>\n",
       "    <tr>\n",
       "      <th>1607871203</th>\n",
       "      <td>0.0</td>\n",
       "      <td>0.0</td>\n",
       "      <td>0.0</td>\n",
       "      <td>0.0</td>\n",
       "      <td>0.0</td>\n",
       "      <td>0.247525</td>\n",
       "      <td>1.980198</td>\n",
       "      <td>0.990099</td>\n",
       "      <td>0.742574</td>\n",
       "    </tr>\n",
       "    <tr>\n",
       "      <th>1607871204</th>\n",
       "      <td>0.0</td>\n",
       "      <td>0.0</td>\n",
       "      <td>0.0</td>\n",
       "      <td>0.0</td>\n",
       "      <td>0.0</td>\n",
       "      <td>0.000000</td>\n",
       "      <td>0.253165</td>\n",
       "      <td>1.012658</td>\n",
       "      <td>0.759494</td>\n",
       "    </tr>\n",
       "    <tr>\n",
       "      <th>1607871205</th>\n",
       "      <td>0.0</td>\n",
       "      <td>0.0</td>\n",
       "      <td>0.0</td>\n",
       "      <td>0.0</td>\n",
       "      <td>0.0</td>\n",
       "      <td>0.000000</td>\n",
       "      <td>0.744417</td>\n",
       "      <td>0.992556</td>\n",
       "      <td>0.992556</td>\n",
       "    </tr>\n",
       "    <tr>\n",
       "      <th>1607871206</th>\n",
       "      <td>0.0</td>\n",
       "      <td>0.0</td>\n",
       "      <td>0.0</td>\n",
       "      <td>0.0</td>\n",
       "      <td>0.0</td>\n",
       "      <td>0.248139</td>\n",
       "      <td>2.481390</td>\n",
       "      <td>0.496278</td>\n",
       "      <td>0.744417</td>\n",
       "    </tr>\n",
       "  </tbody>\n",
       "</table>\n",
       "</div>"
      ],
      "text/plain": [
       "            system.cpu|guest  system.cpu|guest_nice  system.cpu|iowait  \\\n",
       "time_idx                                                                 \n",
       "1607871202               0.0                    0.0                0.0   \n",
       "1607871203               0.0                    0.0                0.0   \n",
       "1607871204               0.0                    0.0                0.0   \n",
       "1607871205               0.0                    0.0                0.0   \n",
       "1607871206               0.0                    0.0                0.0   \n",
       "\n",
       "            system.cpu|irq  system.cpu|nice  system.cpu|softirq  \\\n",
       "time_idx                                                          \n",
       "1607871202             0.0              0.0            0.000000   \n",
       "1607871203             0.0              0.0            0.247525   \n",
       "1607871204             0.0              0.0            0.000000   \n",
       "1607871205             0.0              0.0            0.000000   \n",
       "1607871206             0.0              0.0            0.248139   \n",
       "\n",
       "            system.cpu|steal  system.cpu|system  system.cpu|user  \n",
       "time_idx                                                          \n",
       "1607871202          2.750000           0.750000         0.750000  \n",
       "1607871203          1.980198           0.990099         0.742574  \n",
       "1607871204          0.253165           1.012658         0.759494  \n",
       "1607871205          0.744417           0.992556         0.992556  \n",
       "1607871206          2.481390           0.496278         0.744417  "
      ]
     },
     "execution_count": 2,
     "metadata": {},
     "output_type": "execute_result"
    }
   ],
   "source": [
    "model = Clusterer(['london.my-netdata.io'], charts=['system.load'], after=-60, before=0)\n",
    "model.get_data()\n",
    "model.df.head()"
   ]
  },
  {
   "cell_type": "code",
   "execution_count": null,
   "metadata": {},
   "outputs": [],
   "source": []
  },
  {
   "cell_type": "code",
   "execution_count": null,
   "metadata": {},
   "outputs": [],
   "source": []
  }
 ],
 "metadata": {
  "kernelspec": {
   "display_name": "Python 3",
   "language": "python",
   "name": "python3"
  },
  "language_info": {
   "codemirror_mode": {
    "name": "ipython",
    "version": 3
   },
   "file_extension": ".py",
   "mimetype": "text/x-python",
   "name": "python",
   "nbconvert_exporter": "python",
   "pygments_lexer": "ipython3",
   "version": "3.8.2"
  }
 },
 "nbformat": 4,
 "nbformat_minor": 4
}
